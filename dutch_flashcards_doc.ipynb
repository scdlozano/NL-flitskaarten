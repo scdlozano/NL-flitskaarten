{
 "cells": [
  {
   "cell_type": "markdown",
   "metadata": {},
   "source": [
    "##Documentation\n",
    "- Checked OpenAI\n",
    "- Installed OpenAI module using pip\n"
   ]
  }
 ],
 "metadata": {
  "language_info": {
   "name": "python"
  }
 },
 "nbformat": 4,
 "nbformat_minor": 2
}
